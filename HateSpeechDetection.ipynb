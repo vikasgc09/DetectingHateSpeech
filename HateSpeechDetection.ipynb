{
  "nbformat": 4,
  "nbformat_minor": 0,
  "metadata": {
    "accelerator": "GPU",
    "colab": {
      "name": "hatexplainfinal.ipynb",
      "provenance": [],
      "collapsed_sections": []
    },
    "kernelspec": {
      "display_name": "Python 3",
      "language": "python",
      "name": "python3"
    },
    "language_info": {
      "codemirror_mode": {
        "name": "ipython",
        "version": 3
      },
      "file_extension": ".py",
      "mimetype": "text/x-python",
      "name": "python",
      "nbconvert_exporter": "python",
      "pygments_lexer": "ipython3",
      "version": "3.8.5"
    }
  },
  "cells": [
    {
      "cell_type": "code",
      "metadata": {
        "id": "F01Fs80r-YNr"
      },
      "source": [
        "from __future__ import absolute_import, division, print_function, unicode_literals\n",
        "\n",
        "try:\n",
        "  %tensorflow_version 2.x\n",
        "except Exception:\n",
        "  pass"
      ],
      "execution_count": 1,
      "outputs": []
    },
    {
      "cell_type": "code",
      "metadata": {
        "id": "M6dPslnZ-YNr"
      },
      "source": [
        "import tensorflow as tf\n",
        "from tensorflow.keras.layers import Dense, LSTM\n",
        "from tensorflow.keras.models import Model\n",
        "from tensorflow.keras.models import Sequential\n",
        "import numpy as np\n",
        "import pandas as pd\n",
        "from keras.layers import Dropout\n",
        "from sklearn.model_selection import train_test_split\n",
        "import tensorflow_hub as hub\n",
        "import numpy as np"
      ],
      "execution_count": 2,
      "outputs": []
    },
    {
      "cell_type": "code",
      "metadata": {
        "colab": {
          "base_uri": "https://localhost:8080/",
          "height": 707
        },
        "id": "-fIRlmXtAMNa",
        "outputId": "dc57a8d7-e846-43ef-90f1-ba2299c3e172"
      },
      "source": [
        "\n",
        "!wget --no-check-certificate 'https://docs.google.com/uc?export=download&id=1mffwpIhBU5Nrj1KFmGuCXS3fGPPcIN47' -O data.csv\n",
        "df = pd.read_csv('data.csv')\n",
        "df"
      ],
      "execution_count": 3,
      "outputs": [
        {
          "output_type": "stream",
          "text": [
            "--2021-04-29 21:28:29--  https://docs.google.com/uc?export=download&id=1mffwpIhBU5Nrj1KFmGuCXS3fGPPcIN47\n",
            "Resolving docs.google.com (docs.google.com)... 172.217.13.238, 2607:f8b0:4004:803::200e\n",
            "Connecting to docs.google.com (docs.google.com)|172.217.13.238|:443... connected.\n",
            "HTTP request sent, awaiting response... 302 Moved Temporarily\n",
            "Location: https://doc-0o-3g-docs.googleusercontent.com/docs/securesc/ha0ro937gcuc7l7deffksulhg5h7mbp1/103tl17sv2fdjrl30cl8olqggvkr0nsa/1619731650000/09424851040513535275/*/1mffwpIhBU5Nrj1KFmGuCXS3fGPPcIN47?e=download [following]\n",
            "Warning: wildcards not supported in HTTP.\n",
            "--2021-04-29 21:28:31--  https://doc-0o-3g-docs.googleusercontent.com/docs/securesc/ha0ro937gcuc7l7deffksulhg5h7mbp1/103tl17sv2fdjrl30cl8olqggvkr0nsa/1619731650000/09424851040513535275/*/1mffwpIhBU5Nrj1KFmGuCXS3fGPPcIN47?e=download\n",
            "Resolving doc-0o-3g-docs.googleusercontent.com (doc-0o-3g-docs.googleusercontent.com)... 172.217.15.65, 2607:f8b0:4004:800::2001\n",
            "Connecting to doc-0o-3g-docs.googleusercontent.com (doc-0o-3g-docs.googleusercontent.com)|172.217.15.65|:443... connected.\n",
            "HTTP request sent, awaiting response... 200 OK\n",
            "Length: 1827984 (1.7M) [text/csv]\n",
            "Saving to: ‘data.csv’\n",
            "\n",
            "data.csv            100%[===================>]   1.74M  --.-KB/s    in 0.05s   \n",
            "\n",
            "2021-04-29 21:28:31 (32.0 MB/s) - ‘data.csv’ saved [1827984/1827984]\n",
            "\n"
          ],
          "name": "stdout"
        },
        {
          "output_type": "execute_result",
          "data": {
            "text/html": [
              "<div>\n",
              "<style scoped>\n",
              "    .dataframe tbody tr th:only-of-type {\n",
              "        vertical-align: middle;\n",
              "    }\n",
              "\n",
              "    .dataframe tbody tr th {\n",
              "        vertical-align: top;\n",
              "    }\n",
              "\n",
              "    .dataframe thead th {\n",
              "        text-align: right;\n",
              "    }\n",
              "</style>\n",
              "<table border=\"1\" class=\"dataframe\">\n",
              "  <thead>\n",
              "    <tr style=\"text-align: right;\">\n",
              "      <th></th>\n",
              "      <th>Unnamed: 0</th>\n",
              "      <th>Text</th>\n",
              "      <th>Label</th>\n",
              "    </tr>\n",
              "  </thead>\n",
              "  <tbody>\n",
              "    <tr>\n",
              "      <th>0</th>\n",
              "      <td>0</td>\n",
              "      <td>dont think im get babi white  two white j nike...</td>\n",
              "      <td>normal</td>\n",
              "    </tr>\n",
              "    <tr>\n",
              "      <th>1</th>\n",
              "      <td>1</td>\n",
              "      <td>cannot continu call feminist right womxn arent...</td>\n",
              "      <td>normal</td>\n",
              "    </tr>\n",
              "    <tr>\n",
              "      <th>2</th>\n",
              "      <td>2</td>\n",
              "      <td>nawt yall nigger ignor</td>\n",
              "      <td>normal</td>\n",
              "    </tr>\n",
              "    <tr>\n",
              "      <th>3</th>\n",
              "      <td>3</td>\n",
              "      <td>bit confus coz chines ppl access twitter thn c...</td>\n",
              "      <td>hatespeech</td>\n",
              "    </tr>\n",
              "    <tr>\n",
              "      <th>4</th>\n",
              "      <td>4</td>\n",
              "      <td>bitch whataburg eat burger top bun hold palm h...</td>\n",
              "      <td>hatespeech</td>\n",
              "    </tr>\n",
              "    <tr>\n",
              "      <th>...</th>\n",
              "      <td>...</td>\n",
              "      <td>...</td>\n",
              "      <td>...</td>\n",
              "    </tr>\n",
              "    <tr>\n",
              "      <th>20143</th>\n",
              "      <td>20143</td>\n",
              "      <td>ur still twitter tell carlton said alcohol dru...</td>\n",
              "      <td>offensive</td>\n",
              "    </tr>\n",
              "    <tr>\n",
              "      <th>20144</th>\n",
              "      <td>20144</td>\n",
              "      <td>first got said hate trump consid troll peopl y...</td>\n",
              "      <td>offensive</td>\n",
              "    </tr>\n",
              "    <tr>\n",
              "      <th>20145</th>\n",
              "      <td>20145</td>\n",
              "      <td>macht der moslem wenn der zion gegen seinen pr...</td>\n",
              "      <td>normal</td>\n",
              "    </tr>\n",
              "    <tr>\n",
              "      <th>20146</th>\n",
              "      <td>20146</td>\n",
              "      <td>aw look world demograph asian fuck everywher a...</td>\n",
              "      <td>hatespeech</td>\n",
              "    </tr>\n",
              "    <tr>\n",
              "      <th>20147</th>\n",
              "      <td>20147</td>\n",
              "      <td>jewish globalist elit import million muslim mu...</td>\n",
              "      <td>offensive</td>\n",
              "    </tr>\n",
              "  </tbody>\n",
              "</table>\n",
              "<p>20148 rows × 3 columns</p>\n",
              "</div>"
            ],
            "text/plain": [
              "       Unnamed: 0  ...       Label\n",
              "0               0  ...      normal\n",
              "1               1  ...      normal\n",
              "2               2  ...      normal\n",
              "3               3  ...  hatespeech\n",
              "4               4  ...  hatespeech\n",
              "...           ...  ...         ...\n",
              "20143       20143  ...   offensive\n",
              "20144       20144  ...   offensive\n",
              "20145       20145  ...      normal\n",
              "20146       20146  ...  hatespeech\n",
              "20147       20147  ...   offensive\n",
              "\n",
              "[20148 rows x 3 columns]"
            ]
          },
          "metadata": {
            "tags": []
          },
          "execution_count": 3
        }
      ]
    },
    {
      "cell_type": "code",
      "metadata": {
        "colab": {
          "base_uri": "https://localhost:8080/",
          "height": 402
        },
        "id": "mfKt_OQ-KG0W",
        "outputId": "355d773b-98c3-48a0-e26b-4cd85f233681"
      },
      "source": [
        "DropDataNumber = 16000\n",
        "\n",
        "df.drop(df.tail(DropDataNumber).index,\n",
        "        inplace = True)\n",
        "df"
      ],
      "execution_count": 4,
      "outputs": [
        {
          "output_type": "execute_result",
          "data": {
            "text/html": [
              "<div>\n",
              "<style scoped>\n",
              "    .dataframe tbody tr th:only-of-type {\n",
              "        vertical-align: middle;\n",
              "    }\n",
              "\n",
              "    .dataframe tbody tr th {\n",
              "        vertical-align: top;\n",
              "    }\n",
              "\n",
              "    .dataframe thead th {\n",
              "        text-align: right;\n",
              "    }\n",
              "</style>\n",
              "<table border=\"1\" class=\"dataframe\">\n",
              "  <thead>\n",
              "    <tr style=\"text-align: right;\">\n",
              "      <th></th>\n",
              "      <th>Unnamed: 0</th>\n",
              "      <th>Text</th>\n",
              "      <th>Label</th>\n",
              "    </tr>\n",
              "  </thead>\n",
              "  <tbody>\n",
              "    <tr>\n",
              "      <th>0</th>\n",
              "      <td>0</td>\n",
              "      <td>dont think im get babi white  two white j nike...</td>\n",
              "      <td>normal</td>\n",
              "    </tr>\n",
              "    <tr>\n",
              "      <th>1</th>\n",
              "      <td>1</td>\n",
              "      <td>cannot continu call feminist right womxn arent...</td>\n",
              "      <td>normal</td>\n",
              "    </tr>\n",
              "    <tr>\n",
              "      <th>2</th>\n",
              "      <td>2</td>\n",
              "      <td>nawt yall nigger ignor</td>\n",
              "      <td>normal</td>\n",
              "    </tr>\n",
              "    <tr>\n",
              "      <th>3</th>\n",
              "      <td>3</td>\n",
              "      <td>bit confus coz chines ppl access twitter thn c...</td>\n",
              "      <td>hatespeech</td>\n",
              "    </tr>\n",
              "    <tr>\n",
              "      <th>4</th>\n",
              "      <td>4</td>\n",
              "      <td>bitch whataburg eat burger top bun hold palm h...</td>\n",
              "      <td>hatespeech</td>\n",
              "    </tr>\n",
              "    <tr>\n",
              "      <th>...</th>\n",
              "      <td>...</td>\n",
              "      <td>...</td>\n",
              "      <td>...</td>\n",
              "    </tr>\n",
              "    <tr>\n",
              "      <th>4143</th>\n",
              "      <td>4143</td>\n",
              "      <td>rofl hawaii explod california fall pacif hilla...</td>\n",
              "      <td>hatespeech</td>\n",
              "    </tr>\n",
              "    <tr>\n",
              "      <th>4144</th>\n",
              "      <td>4144</td>\n",
              "      <td>morn women push call faggot push way continu w...</td>\n",
              "      <td>offensive</td>\n",
              "    </tr>\n",
              "    <tr>\n",
              "      <th>4145</th>\n",
              "      <td>4145</td>\n",
              "      <td>porch monkey</td>\n",
              "      <td>normal</td>\n",
              "    </tr>\n",
              "    <tr>\n",
              "      <th>4146</th>\n",
              "      <td>4146</td>\n",
              "      <td>one orang shirt syrian refuge</td>\n",
              "      <td>normal</td>\n",
              "    </tr>\n",
              "    <tr>\n",
              "      <th>4147</th>\n",
              "      <td>4147</td>\n",
              "      <td>littl dog alway look like hate</td>\n",
              "      <td>normal</td>\n",
              "    </tr>\n",
              "  </tbody>\n",
              "</table>\n",
              "<p>4148 rows × 3 columns</p>\n",
              "</div>"
            ],
            "text/plain": [
              "      Unnamed: 0                                               Text       Label\n",
              "0              0  dont think im get babi white  two white j nike...      normal\n",
              "1              1  cannot continu call feminist right womxn arent...      normal\n",
              "2              2                             nawt yall nigger ignor      normal\n",
              "3              3  bit confus coz chines ppl access twitter thn c...  hatespeech\n",
              "4              4  bitch whataburg eat burger top bun hold palm h...  hatespeech\n",
              "...          ...                                                ...         ...\n",
              "4143        4143  rofl hawaii explod california fall pacif hilla...  hatespeech\n",
              "4144        4144  morn women push call faggot push way continu w...   offensive\n",
              "4145        4145                                       porch monkey      normal\n",
              "4146        4146                      one orang shirt syrian refuge      normal\n",
              "4147        4147                     littl dog alway look like hate      normal\n",
              "\n",
              "[4148 rows x 3 columns]"
            ]
          },
          "metadata": {
            "tags": []
          },
          "execution_count": 4
        }
      ]
    },
    {
      "cell_type": "code",
      "metadata": {
        "id": "Fmwb9Lk-N5jV"
      },
      "source": [
        "\n"
      ],
      "execution_count": 4,
      "outputs": []
    },
    {
      "cell_type": "code",
      "metadata": {
        "id": "k-AFfF0LOAk2"
      },
      "source": [
        ""
      ],
      "execution_count": 4,
      "outputs": []
    },
    {
      "cell_type": "code",
      "metadata": {
        "id": "pY2_dMyA-YNs"
      },
      "source": [
        "#metrics=[tf.keras.metrics.AUC()]\n",
        "embed = hub.load(\"https://tfhub.dev/google/Wiki-words-250/2\")"
      ],
      "execution_count": 5,
      "outputs": []
    },
    {
      "cell_type": "code",
      "metadata": {
        "id": "qsQkNmaI-YNw"
      },
      "source": [
        "def get_max_length(df):\n",
        "    \"\"\"\n",
        "    get max token counts from train data, \n",
        "    so we use this number as fixed length input to RNN cell\n",
        "    \"\"\"\n",
        "    max_length = 0\n",
        "    for row in df['Text']:\n",
        "        if len(row.split(\" \")) > max_length:\n",
        "            max_length = len(row.split(\" \"))\n",
        "    return max_length\n",
        "\n",
        "def get_word2vec_enc(Text):\n",
        "    \"\"\"\n",
        "    get word2vec value for each word in sentence.\n",
        "    concatenate word in numpy array, so we can use it as RNN input\n",
        "    \"\"\"\n",
        "    encoded_Text = []\n",
        "    for Text in Text:\n",
        "        tokens = Text.split(\" \")\n",
        "        word2vec_embedding = embed(tokens)\n",
        "        encoded_Text.append(word2vec_embedding)\n",
        "    return encoded_Text\n",
        "        \n",
        "def get_padded_encoded_Text(encoded_Text):\n",
        "    \"\"\"\n",
        "    for short sentences, we prepend zero padding so all input to RNN has same length\n",
        "    \"\"\"\n",
        "    padded_Text_encoding = []\n",
        "    for enc_review in encoded_Text:\n",
        "        zero_padding_cnt = max_length - enc_review.shape[0]\n",
        "        pad = np.zeros((1, 250))\n",
        "        for i in range(zero_padding_cnt):\n",
        "            enc_review = np.concatenate((pad, enc_review), axis=0)\n",
        "        padded_Text_encoding.append(enc_review)\n",
        "    return padded_Text_encoding\n",
        "\n",
        "def sentiment_encode(Label):\n",
        "    \"\"\"\n",
        "    return one hot encoding for Y value\n",
        "    \"\"\"\n",
        "    if Label == 'normal':\n",
        "        return [1,0,0]\n",
        "    elif Label == 'hatespeech':\n",
        "        return [0,1,0]\n",
        "    else:\n",
        "        return [0,0,1]\n",
        "    \n",
        "def preprocess(df):\n",
        "    \"\"\"\n",
        "    encode text value to numeric value\n",
        "    \"\"\"\n",
        "    # encode words into word2vec\n",
        "    Text = df['Text'].tolist()\n",
        "    \n",
        "    encoded_Text = get_word2vec_enc(Text)\n",
        "    padded_encoded_Text = get_padded_encoded_Text(encoded_Text)\n",
        "    # encoded sentiment\n",
        "    sentiments = df['Label'].tolist()\n",
        "    encoded_sentiment = [sentiment_encode(Label) for Label in sentiments]\n",
        "    X = np.array(padded_encoded_Text)\n",
        "    Y = np.array(encoded_sentiment)\n",
        "    return X, Y "
      ],
      "execution_count": 6,
      "outputs": []
    },
    {
      "cell_type": "code",
      "metadata": {
        "id": "UcY5l4Wj3MYZ"
      },
      "source": [
        ""
      ],
      "execution_count": 6,
      "outputs": []
    },
    {
      "cell_type": "code",
      "metadata": {
        "id": "evI82BIMK8JB"
      },
      "source": [
        "df.astype\n",
        "df.dtypes\n",
        "\n",
        "df = df[df['Text'].notnull()]"
      ],
      "execution_count": 7,
      "outputs": []
    },
    {
      "cell_type": "markdown",
      "metadata": {
        "id": "nw_f6OI--YNy"
      },
      "source": [
        "# Preprocess (encode text to number)"
      ]
    },
    {
      "cell_type": "code",
      "metadata": {
        "id": "sx1Fslkv-YNy"
      },
      "source": [
        "# movie_reviews_train = [\n",
        "#          {'review': 'this is the best movie', 'sentiment': 'positive'},\n",
        "#          {'review': 'i recommend you watch this movie', 'sentiment': 'positive'},\n",
        "#          {'review': 'it was waste of money and time', 'sentiment': 'negative'},\n",
        "#          {'review': 'the worst movie ever', 'sentiment': 'negative'}\n",
        "#     ]\n",
        "# df = pd.DataFrame(movie_reviews_train)\n",
        "\n",
        "# max_length is used for max sequence of input\n",
        "max_length = get_max_length(df)\n",
        "\n",
        "X, y= preprocess(df)\n",
        "\n",
        "X_train, X_test, y_train, y_test = train_test_split(X, y, test_size=0.33, random_state=42)"
      ],
      "execution_count": 8,
      "outputs": []
    },
    {
      "cell_type": "code",
      "metadata": {
        "colab": {
          "base_uri": "https://localhost:8080/"
        },
        "id": "0O9g8A1dhyeW",
        "outputId": "6e285473-2fb8-4aa6-b856-de76fdd7de85"
      },
      "source": [
        "X_train"
      ],
      "execution_count": 9,
      "outputs": [
        {
          "output_type": "execute_result",
          "data": {
            "text/plain": [
              "array([[[ 0.        ,  0.        ,  0.        , ...,  0.        ,\n",
              "          0.        ,  0.        ],\n",
              "        [ 0.        ,  0.        ,  0.        , ...,  0.        ,\n",
              "          0.        ,  0.        ],\n",
              "        [ 0.        ,  0.        ,  0.        , ...,  0.        ,\n",
              "          0.        ,  0.        ],\n",
              "        ...,\n",
              "        [ 0.04766034, -0.05748302,  0.03545095, ...,  0.00521918,\n",
              "         -0.0722433 ,  0.01327429],\n",
              "        [ 0.        ,  0.        ,  0.        , ...,  0.        ,\n",
              "          0.        ,  0.        ],\n",
              "        [-0.08465096, -0.03669273,  0.0231047 , ..., -0.00519624,\n",
              "         -0.05797724, -0.02840648]],\n",
              "\n",
              "       [[ 0.        ,  0.        ,  0.        , ...,  0.        ,\n",
              "          0.        ,  0.        ],\n",
              "        [ 0.        ,  0.        ,  0.        , ...,  0.        ,\n",
              "          0.        ,  0.        ],\n",
              "        [ 0.        ,  0.        ,  0.        , ...,  0.        ,\n",
              "          0.        ,  0.        ],\n",
              "        ...,\n",
              "        [-0.01862679, -0.0889974 , -0.06428857, ...,  0.06992199,\n",
              "          0.04195227,  0.01743404],\n",
              "        [-0.11037989,  0.02515471,  0.07840127, ..., -0.04683511,\n",
              "          0.06167161, -0.02638281],\n",
              "        [ 0.        ,  0.        ,  0.        , ...,  0.        ,\n",
              "          0.        ,  0.        ]],\n",
              "\n",
              "       [[ 0.        ,  0.        ,  0.        , ...,  0.        ,\n",
              "          0.        ,  0.        ],\n",
              "        [ 0.        ,  0.        ,  0.        , ...,  0.        ,\n",
              "          0.        ,  0.        ],\n",
              "        [ 0.        ,  0.        ,  0.        , ...,  0.        ,\n",
              "          0.        ,  0.        ],\n",
              "        ...,\n",
              "        [-0.02342196,  0.1032889 , -0.02208778, ..., -0.02918789,\n",
              "          0.11763254, -0.07838615],\n",
              "        [ 0.0300352 , -0.07780478,  0.05605094, ...,  0.06865401,\n",
              "          0.05770752,  0.01297902],\n",
              "        [ 0.01150422,  0.05794417,  0.08079916, ...,  0.10212024,\n",
              "         -0.05165565,  0.06315448]],\n",
              "\n",
              "       ...,\n",
              "\n",
              "       [[ 0.        ,  0.        ,  0.        , ...,  0.        ,\n",
              "          0.        ,  0.        ],\n",
              "        [ 0.        ,  0.        ,  0.        , ...,  0.        ,\n",
              "          0.        ,  0.        ],\n",
              "        [ 0.        ,  0.        ,  0.        , ...,  0.        ,\n",
              "          0.        ,  0.        ],\n",
              "        ...,\n",
              "        [-0.07190745, -0.0533919 , -0.07332699, ...,  0.01059371,\n",
              "          0.04919189,  0.03160657],\n",
              "        [-0.05441909, -0.07504503,  0.10048909, ...,  0.01358223,\n",
              "         -0.06041664,  0.00660621],\n",
              "        [-0.020162  , -0.02512537,  0.02389656, ..., -0.00606454,\n",
              "         -0.00278169, -0.06272139]],\n",
              "\n",
              "       [[ 0.        ,  0.        ,  0.        , ...,  0.        ,\n",
              "          0.        ,  0.        ],\n",
              "        [ 0.        ,  0.        ,  0.        , ...,  0.        ,\n",
              "          0.        ,  0.        ],\n",
              "        [ 0.        ,  0.        ,  0.        , ...,  0.        ,\n",
              "          0.        ,  0.        ],\n",
              "        ...,\n",
              "        [ 0.03608807,  0.04664336,  0.05717274, ..., -0.10050912,\n",
              "         -0.07939884,  0.11664831],\n",
              "        [ 0.02246137,  0.14077228, -0.07132369, ..., -0.00043459,\n",
              "          0.01528042, -0.00909337],\n",
              "        [-0.05459104,  0.01299654, -0.04731518, ..., -0.01332447,\n",
              "          0.00038961,  0.00707015]],\n",
              "\n",
              "       [[ 0.        ,  0.        ,  0.        , ...,  0.        ,\n",
              "          0.        ,  0.        ],\n",
              "        [ 0.        ,  0.        ,  0.        , ...,  0.        ,\n",
              "          0.        ,  0.        ],\n",
              "        [ 0.        ,  0.        ,  0.        , ...,  0.        ,\n",
              "          0.        ,  0.        ],\n",
              "        ...,\n",
              "        [-0.04426088, -0.03302301, -0.1170446 , ...,  0.06837604,\n",
              "         -0.01213496, -0.05590193],\n",
              "        [-0.04288854,  0.05082722, -0.11903092, ...,  0.00552402,\n",
              "          0.13262005,  0.06320403],\n",
              "        [ 0.        ,  0.        ,  0.        , ...,  0.        ,\n",
              "          0.        ,  0.        ]]])"
            ]
          },
          "metadata": {
            "tags": []
          },
          "execution_count": 9
        }
      ]
    },
    {
      "cell_type": "markdown",
      "metadata": {
        "id": "EUwMCUXQ-YNz"
      },
      "source": [
        "# Build Model"
      ]
    },
    {
      "cell_type": "code",
      "metadata": {
        "colab": {
          "base_uri": "https://localhost:8080/"
        },
        "id": "KwGHsKg_-YN0",
        "outputId": "741bdbcd-c549-4c41-aff2-8f8f1b0f4383"
      },
      "source": [
        "# LSTM model\n",
        "model = Sequential()\n",
        "model.add(LSTM(32))\n",
        "model.add(Dropout(0.5))\n",
        "model.add(Dense(8, activation='relu'))\n",
        "model.add(Dropout(0.5))\n",
        "model.add(Dense(8, activation='relu'))\n",
        "model.add(Dropout(0.5))\n",
        "from tensorflow.keras import regularizers\n",
        "model.add(Dense(3, activation='softmax'))\n",
        "\n",
        "model.summary"
      ],
      "execution_count": 103,
      "outputs": [
        {
          "output_type": "execute_result",
          "data": {
            "text/plain": [
              "<bound method Model.summary of <tensorflow.python.keras.engine.sequential.Sequential object at 0x7febf6118fd0>>"
            ]
          },
          "metadata": {
            "tags": []
          },
          "execution_count": 103
        }
      ]
    },
    {
      "cell_type": "code",
      "metadata": {
        "id": "eqYXtB9wkwsk"
      },
      "source": [
        "model.compile(loss='categorical_crossentropy',\n",
        "              optimizer='adam',\n",
        "              metrics=['accuracy',tf.keras.metrics.AUC(),tf.keras.metrics.Recall(),tf.keras.metrics.Precision()]\n",
        "             #,metrics=[tf.keras.metrics.AUC()]\n",
        "             )"
      ],
      "execution_count": 116,
      "outputs": []
    },
    {
      "cell_type": "markdown",
      "metadata": {
        "id": "YHBlE7ps-YN3"
      },
      "source": [
        "# Train"
      ]
    },
    {
      "cell_type": "code",
      "metadata": {
        "id": "9fG-TLPxLcoP"
      },
      "source": [
        ""
      ],
      "execution_count": 116,
      "outputs": []
    },
    {
      "cell_type": "code",
      "metadata": {
        "id": "_-H31-75-YN3",
        "colab": {
          "base_uri": "https://localhost:8080/"
        },
        "outputId": "fe6196d0-992c-46ab-9dd8-3364b237a051"
      },
      "source": [
        "print('Train...')\n",
        "model.fit(X_train, y_train,epochs=100,\n",
        "          validation_data=(X_test,y_test),\n",
        "          batch_size=32)"
      ],
      "execution_count": 117,
      "outputs": [
        {
          "output_type": "stream",
          "text": [
            "Train...\n",
            "Epoch 1/100\n",
            "87/87 [==============================] - 4s 19ms/step - loss: 0.6315 - accuracy: 0.7613 - auc_9: 0.8921 - recall_3: 0.7312 - precision_3: 0.7833 - val_loss: 1.3884 - val_accuracy: 0.6384 - val_auc_9: 0.7944 - val_recall_3: 0.6026 - val_precision_3: 0.6648\n",
            "Epoch 2/100\n",
            "87/87 [==============================] - 1s 11ms/step - loss: 0.6106 - accuracy: 0.7663 - auc_9: 0.8955 - recall_3: 0.7394 - precision_3: 0.7895 - val_loss: 1.3358 - val_accuracy: 0.6238 - val_auc_9: 0.7933 - val_recall_3: 0.5931 - val_precision_3: 0.6517\n",
            "Epoch 3/100\n",
            "87/87 [==============================] - 1s 11ms/step - loss: 0.6093 - accuracy: 0.7567 - auc_9: 0.8995 - recall_3: 0.7340 - precision_3: 0.7931 - val_loss: 1.5390 - val_accuracy: 0.6472 - val_auc_9: 0.7975 - val_recall_3: 0.6150 - val_precision_3: 0.6846\n",
            "Epoch 4/100\n",
            "87/87 [==============================] - 1s 11ms/step - loss: 0.5911 - accuracy: 0.7667 - auc_9: 0.9022 - recall_3: 0.7442 - precision_3: 0.7969 - val_loss: 1.8678 - val_accuracy: 0.6362 - val_auc_9: 0.7859 - val_recall_3: 0.6077 - val_precision_3: 0.6651\n",
            "Epoch 5/100\n",
            "87/87 [==============================] - 1s 11ms/step - loss: 0.6073 - accuracy: 0.7605 - auc_9: 0.8982 - recall_3: 0.7369 - precision_3: 0.7886 - val_loss: 1.6951 - val_accuracy: 0.6428 - val_auc_9: 0.7975 - val_recall_3: 0.6165 - val_precision_3: 0.6752\n",
            "Epoch 6/100\n",
            "87/87 [==============================] - 1s 11ms/step - loss: 0.5991 - accuracy: 0.7709 - auc_9: 0.8992 - recall_3: 0.7400 - precision_3: 0.7922 - val_loss: 2.0847 - val_accuracy: 0.6413 - val_auc_9: 0.7966 - val_recall_3: 0.6092 - val_precision_3: 0.6808\n",
            "Epoch 7/100\n",
            "87/87 [==============================] - 1s 11ms/step - loss: 0.6178 - accuracy: 0.7619 - auc_9: 0.8975 - recall_3: 0.7345 - precision_3: 0.7932 - val_loss: 2.0592 - val_accuracy: 0.6450 - val_auc_9: 0.7896 - val_recall_3: 0.6282 - val_precision_3: 0.6735\n",
            "Epoch 8/100\n",
            "87/87 [==============================] - 1s 11ms/step - loss: 0.5636 - accuracy: 0.7833 - auc_9: 0.9127 - recall_3: 0.7644 - precision_3: 0.8083 - val_loss: 2.0728 - val_accuracy: 0.6443 - val_auc_9: 0.7941 - val_recall_3: 0.6158 - val_precision_3: 0.6728\n",
            "Epoch 9/100\n",
            "87/87 [==============================] - 1s 11ms/step - loss: 0.5982 - accuracy: 0.7618 - auc_9: 0.9006 - recall_3: 0.7378 - precision_3: 0.7959 - val_loss: 2.2078 - val_accuracy: 0.6465 - val_auc_9: 0.7923 - val_recall_3: 0.6267 - val_precision_3: 0.6740\n",
            "Epoch 10/100\n",
            "87/87 [==============================] - 1s 11ms/step - loss: 0.5339 - accuracy: 0.7874 - auc_9: 0.9175 - recall_3: 0.7683 - precision_3: 0.8135 - val_loss: 2.1442 - val_accuracy: 0.6282 - val_auc_9: 0.7876 - val_recall_3: 0.6019 - val_precision_3: 0.6524\n",
            "Epoch 11/100\n",
            "87/87 [==============================] - 1s 11ms/step - loss: 0.5833 - accuracy: 0.7816 - auc_9: 0.9074 - recall_3: 0.7562 - precision_3: 0.8060 - val_loss: 2.5062 - val_accuracy: 0.6516 - val_auc_9: 0.7921 - val_recall_3: 0.6202 - val_precision_3: 0.6836\n",
            "Epoch 12/100\n",
            "87/87 [==============================] - 1s 11ms/step - loss: 0.5631 - accuracy: 0.7781 - auc_9: 0.9178 - recall_3: 0.7502 - precision_3: 0.8190 - val_loss: 2.4976 - val_accuracy: 0.6435 - val_auc_9: 0.7965 - val_recall_3: 0.6267 - val_precision_3: 0.6672\n",
            "Epoch 13/100\n",
            "87/87 [==============================] - 1s 11ms/step - loss: 0.6019 - accuracy: 0.7626 - auc_9: 0.9061 - recall_3: 0.7412 - precision_3: 0.7997 - val_loss: 1.6598 - val_accuracy: 0.6224 - val_auc_9: 0.7904 - val_recall_3: 0.5880 - val_precision_3: 0.6508\n",
            "Epoch 14/100\n",
            "87/87 [==============================] - 1s 11ms/step - loss: 0.5614 - accuracy: 0.7826 - auc_9: 0.9128 - recall_3: 0.7591 - precision_3: 0.8094 - val_loss: 2.0302 - val_accuracy: 0.6297 - val_auc_9: 0.7903 - val_recall_3: 0.6048 - val_precision_3: 0.6624\n",
            "Epoch 15/100\n",
            "87/87 [==============================] - 1s 11ms/step - loss: 0.5408 - accuracy: 0.7891 - auc_9: 0.9196 - recall_3: 0.7716 - precision_3: 0.8176 - val_loss: 1.7830 - val_accuracy: 0.6399 - val_auc_9: 0.7992 - val_recall_3: 0.6114 - val_precision_3: 0.6739\n",
            "Epoch 16/100\n",
            "87/87 [==============================] - 1s 11ms/step - loss: 0.5521 - accuracy: 0.7809 - auc_9: 0.9159 - recall_3: 0.7621 - precision_3: 0.8136 - val_loss: 2.0241 - val_accuracy: 0.6435 - val_auc_9: 0.8006 - val_recall_3: 0.6224 - val_precision_3: 0.6725\n",
            "Epoch 17/100\n",
            "87/87 [==============================] - 1s 11ms/step - loss: 0.5843 - accuracy: 0.7794 - auc_9: 0.9057 - recall_3: 0.7580 - precision_3: 0.8053 - val_loss: 2.1842 - val_accuracy: 0.6486 - val_auc_9: 0.7969 - val_recall_3: 0.6245 - val_precision_3: 0.6835\n",
            "Epoch 18/100\n",
            "87/87 [==============================] - 1s 11ms/step - loss: 0.5668 - accuracy: 0.7853 - auc_9: 0.9159 - recall_3: 0.7677 - precision_3: 0.8181 - val_loss: 1.9180 - val_accuracy: 0.6443 - val_auc_9: 0.7995 - val_recall_3: 0.6158 - val_precision_3: 0.6744\n",
            "Epoch 19/100\n",
            "87/87 [==============================] - 1s 11ms/step - loss: 0.5604 - accuracy: 0.7856 - auc_9: 0.9145 - recall_3: 0.7668 - precision_3: 0.8092 - val_loss: 1.9308 - val_accuracy: 0.6348 - val_auc_9: 0.7990 - val_recall_3: 0.6107 - val_precision_3: 0.6753\n",
            "Epoch 20/100\n",
            "87/87 [==============================] - 1s 11ms/step - loss: 0.5468 - accuracy: 0.7898 - auc_9: 0.9172 - recall_3: 0.7600 - precision_3: 0.8139 - val_loss: 1.9324 - val_accuracy: 0.6421 - val_auc_9: 0.7970 - val_recall_3: 0.6194 - val_precision_3: 0.6661\n",
            "Epoch 21/100\n",
            "87/87 [==============================] - 1s 11ms/step - loss: 0.5565 - accuracy: 0.7845 - auc_9: 0.9176 - recall_3: 0.7665 - precision_3: 0.8082 - val_loss: 2.2795 - val_accuracy: 0.6421 - val_auc_9: 0.7880 - val_recall_3: 0.6231 - val_precision_3: 0.6556\n",
            "Epoch 22/100\n",
            "87/87 [==============================] - 1s 11ms/step - loss: 0.5699 - accuracy: 0.7872 - auc_9: 0.9124 - recall_3: 0.7667 - precision_3: 0.8085 - val_loss: 1.8558 - val_accuracy: 0.6282 - val_auc_9: 0.7960 - val_recall_3: 0.6026 - val_precision_3: 0.6605\n",
            "Epoch 23/100\n",
            "87/87 [==============================] - 1s 12ms/step - loss: 0.5545 - accuracy: 0.7858 - auc_9: 0.9168 - recall_3: 0.7695 - precision_3: 0.8073 - val_loss: 2.2168 - val_accuracy: 0.6486 - val_auc_9: 0.7998 - val_recall_3: 0.6172 - val_precision_3: 0.6771\n",
            "Epoch 24/100\n",
            "87/87 [==============================] - 1s 11ms/step - loss: 0.5617 - accuracy: 0.7868 - auc_9: 0.9133 - recall_3: 0.7645 - precision_3: 0.8087 - val_loss: 2.4219 - val_accuracy: 0.6421 - val_auc_9: 0.7945 - val_recall_3: 0.6085 - val_precision_3: 0.6712\n",
            "Epoch 25/100\n",
            "87/87 [==============================] - 1s 11ms/step - loss: 0.5865 - accuracy: 0.7663 - auc_9: 0.9059 - recall_3: 0.7443 - precision_3: 0.7982 - val_loss: 2.2929 - val_accuracy: 0.6435 - val_auc_9: 0.7949 - val_recall_3: 0.6150 - val_precision_3: 0.6736\n",
            "Epoch 26/100\n",
            "87/87 [==============================] - 1s 11ms/step - loss: 0.5620 - accuracy: 0.7846 - auc_9: 0.9160 - recall_3: 0.7676 - precision_3: 0.8156 - val_loss: 1.7974 - val_accuracy: 0.6245 - val_auc_9: 0.7915 - val_recall_3: 0.5975 - val_precision_3: 0.6597\n",
            "Epoch 27/100\n",
            "87/87 [==============================] - 1s 11ms/step - loss: 0.5708 - accuracy: 0.7771 - auc_9: 0.9071 - recall_3: 0.7537 - precision_3: 0.7999 - val_loss: 2.0656 - val_accuracy: 0.6486 - val_auc_9: 0.7995 - val_recall_3: 0.6150 - val_precision_3: 0.6774\n",
            "Epoch 28/100\n",
            "87/87 [==============================] - 1s 11ms/step - loss: 0.5542 - accuracy: 0.7848 - auc_9: 0.9181 - recall_3: 0.7668 - precision_3: 0.8028 - val_loss: 2.8076 - val_accuracy: 0.6538 - val_auc_9: 0.7906 - val_recall_3: 0.6326 - val_precision_3: 0.6755\n",
            "Epoch 29/100\n",
            "87/87 [==============================] - 1s 11ms/step - loss: 0.5359 - accuracy: 0.7940 - auc_9: 0.9224 - recall_3: 0.7731 - precision_3: 0.8229 - val_loss: 2.3252 - val_accuracy: 0.6413 - val_auc_9: 0.7929 - val_recall_3: 0.6070 - val_precision_3: 0.6685\n",
            "Epoch 30/100\n",
            "87/87 [==============================] - 1s 11ms/step - loss: 0.5274 - accuracy: 0.8002 - auc_9: 0.9235 - recall_3: 0.7849 - precision_3: 0.8276 - val_loss: 2.8464 - val_accuracy: 0.6516 - val_auc_9: 0.7906 - val_recall_3: 0.6282 - val_precision_3: 0.6761\n",
            "Epoch 31/100\n",
            "87/87 [==============================] - 1s 11ms/step - loss: 0.5314 - accuracy: 0.7951 - auc_9: 0.9222 - recall_3: 0.7767 - precision_3: 0.8189 - val_loss: 2.8366 - val_accuracy: 0.6523 - val_auc_9: 0.7954 - val_recall_3: 0.6267 - val_precision_3: 0.6777\n",
            "Epoch 32/100\n",
            "87/87 [==============================] - 1s 11ms/step - loss: 0.5385 - accuracy: 0.7887 - auc_9: 0.9197 - recall_3: 0.7768 - precision_3: 0.8150 - val_loss: 2.7735 - val_accuracy: 0.6355 - val_auc_9: 0.7862 - val_recall_3: 0.6092 - val_precision_3: 0.6656\n",
            "Epoch 33/100\n",
            "87/87 [==============================] - 1s 11ms/step - loss: 0.5473 - accuracy: 0.7821 - auc_9: 0.9162 - recall_3: 0.7569 - precision_3: 0.8045 - val_loss: 2.6672 - val_accuracy: 0.6406 - val_auc_9: 0.7886 - val_recall_3: 0.6143 - val_precision_3: 0.6627\n",
            "Epoch 34/100\n",
            "87/87 [==============================] - 1s 11ms/step - loss: 0.5056 - accuracy: 0.8049 - auc_9: 0.9298 - recall_3: 0.7888 - precision_3: 0.8263 - val_loss: 2.2766 - val_accuracy: 0.6384 - val_auc_9: 0.7859 - val_recall_3: 0.6034 - val_precision_3: 0.6651\n",
            "Epoch 35/100\n",
            "87/87 [==============================] - 1s 11ms/step - loss: 0.5245 - accuracy: 0.7963 - auc_9: 0.9220 - recall_3: 0.7720 - precision_3: 0.8212 - val_loss: 2.8512 - val_accuracy: 0.6392 - val_auc_9: 0.7878 - val_recall_3: 0.6092 - val_precision_3: 0.6693\n",
            "Epoch 36/100\n",
            "87/87 [==============================] - 1s 11ms/step - loss: 0.5040 - accuracy: 0.7991 - auc_9: 0.9292 - recall_3: 0.7819 - precision_3: 0.8274 - val_loss: 2.2859 - val_accuracy: 0.6392 - val_auc_9: 0.7909 - val_recall_3: 0.6099 - val_precision_3: 0.6611\n",
            "Epoch 37/100\n",
            "87/87 [==============================] - 1s 11ms/step - loss: 0.5349 - accuracy: 0.7878 - auc_9: 0.9222 - recall_3: 0.7664 - precision_3: 0.8158 - val_loss: 2.9857 - val_accuracy: 0.6538 - val_auc_9: 0.7909 - val_recall_3: 0.6275 - val_precision_3: 0.6764\n",
            "Epoch 38/100\n",
            "87/87 [==============================] - 1s 11ms/step - loss: 0.5469 - accuracy: 0.7872 - auc_9: 0.9167 - recall_3: 0.7701 - precision_3: 0.8093 - val_loss: 3.0705 - val_accuracy: 0.6603 - val_auc_9: 0.7870 - val_recall_3: 0.6355 - val_precision_3: 0.6840\n",
            "Epoch 39/100\n",
            "87/87 [==============================] - 1s 11ms/step - loss: 0.5762 - accuracy: 0.7930 - auc_9: 0.9170 - recall_3: 0.7812 - precision_3: 0.8212 - val_loss: 2.1050 - val_accuracy: 0.6260 - val_auc_9: 0.7821 - val_recall_3: 0.5931 - val_precision_3: 0.6506\n",
            "Epoch 40/100\n",
            "87/87 [==============================] - 1s 11ms/step - loss: 0.6168 - accuracy: 0.7599 - auc_9: 0.8967 - recall_3: 0.7352 - precision_3: 0.7951 - val_loss: 2.1816 - val_accuracy: 0.6494 - val_auc_9: 0.7953 - val_recall_3: 0.6260 - val_precision_3: 0.6796\n",
            "Epoch 41/100\n",
            "87/87 [==============================] - 1s 11ms/step - loss: 0.5983 - accuracy: 0.7743 - auc_9: 0.9043 - recall_3: 0.7461 - precision_3: 0.8012 - val_loss: 2.6310 - val_accuracy: 0.6567 - val_auc_9: 0.7965 - val_recall_3: 0.6297 - val_precision_3: 0.6836\n",
            "Epoch 42/100\n",
            "87/87 [==============================] - 1s 11ms/step - loss: 0.5211 - accuracy: 0.8033 - auc_9: 0.9253 - recall_3: 0.7857 - precision_3: 0.8307 - val_loss: 3.0221 - val_accuracy: 0.6618 - val_auc_9: 0.7959 - val_recall_3: 0.6333 - val_precision_3: 0.6903\n",
            "Epoch 43/100\n",
            "87/87 [==============================] - 1s 12ms/step - loss: 0.5243 - accuracy: 0.8012 - auc_9: 0.9234 - recall_3: 0.7812 - precision_3: 0.8243 - val_loss: 2.4505 - val_accuracy: 0.6340 - val_auc_9: 0.7832 - val_recall_3: 0.5997 - val_precision_3: 0.6584\n",
            "Epoch 44/100\n",
            "87/87 [==============================] - 1s 11ms/step - loss: 0.5386 - accuracy: 0.7958 - auc_9: 0.9214 - recall_3: 0.7761 - precision_3: 0.8168 - val_loss: 3.0004 - val_accuracy: 0.6457 - val_auc_9: 0.7895 - val_recall_3: 0.6253 - val_precision_3: 0.6745\n",
            "Epoch 45/100\n",
            "87/87 [==============================] - 1s 11ms/step - loss: 0.4897 - accuracy: 0.8082 - auc_9: 0.9351 - recall_3: 0.7976 - precision_3: 0.8334 - val_loss: 2.9781 - val_accuracy: 0.6508 - val_auc_9: 0.7910 - val_recall_3: 0.6253 - val_precision_3: 0.6756\n",
            "Epoch 46/100\n",
            "87/87 [==============================] - 1s 11ms/step - loss: 0.5015 - accuracy: 0.8128 - auc_9: 0.9310 - recall_3: 0.7900 - precision_3: 0.8319 - val_loss: 2.8996 - val_accuracy: 0.6399 - val_auc_9: 0.7811 - val_recall_3: 0.6004 - val_precision_3: 0.6602\n",
            "Epoch 47/100\n",
            "87/87 [==============================] - 1s 11ms/step - loss: 0.5134 - accuracy: 0.8030 - auc_9: 0.9259 - recall_3: 0.7866 - precision_3: 0.8342 - val_loss: 3.2396 - val_accuracy: 0.6603 - val_auc_9: 0.7940 - val_recall_3: 0.6282 - val_precision_3: 0.6853\n",
            "Epoch 48/100\n",
            "87/87 [==============================] - 1s 12ms/step - loss: 0.4790 - accuracy: 0.8060 - auc_9: 0.9363 - recall_3: 0.7917 - precision_3: 0.8345 - val_loss: 3.1899 - val_accuracy: 0.6530 - val_auc_9: 0.7920 - val_recall_3: 0.6209 - val_precision_3: 0.6844\n",
            "Epoch 49/100\n",
            "87/87 [==============================] - 1s 11ms/step - loss: 0.5187 - accuracy: 0.8199 - auc_9: 0.9337 - recall_3: 0.7956 - precision_3: 0.8419 - val_loss: 3.2767 - val_accuracy: 0.6530 - val_auc_9: 0.7897 - val_recall_3: 0.6172 - val_precision_3: 0.6738\n",
            "Epoch 50/100\n",
            "87/87 [==============================] - 1s 11ms/step - loss: 0.5596 - accuracy: 0.7981 - auc_9: 0.9170 - recall_3: 0.7762 - precision_3: 0.8236 - val_loss: 2.1912 - val_accuracy: 0.6406 - val_auc_9: 0.7956 - val_recall_3: 0.6107 - val_precision_3: 0.6709\n",
            "Epoch 51/100\n",
            "87/87 [==============================] - 1s 11ms/step - loss: 0.5913 - accuracy: 0.7791 - auc_9: 0.9098 - recall_3: 0.7595 - precision_3: 0.8081 - val_loss: 2.5862 - val_accuracy: 0.6494 - val_auc_9: 0.7941 - val_recall_3: 0.6187 - val_precision_3: 0.6771\n",
            "Epoch 52/100\n",
            "87/87 [==============================] - 1s 11ms/step - loss: 0.5314 - accuracy: 0.7987 - auc_9: 0.9265 - recall_3: 0.7833 - precision_3: 0.8264 - val_loss: 2.0780 - val_accuracy: 0.6172 - val_auc_9: 0.7805 - val_recall_3: 0.5814 - val_precision_3: 0.6477\n",
            "Epoch 53/100\n",
            "87/87 [==============================] - 1s 11ms/step - loss: 0.6078 - accuracy: 0.7656 - auc_9: 0.9002 - recall_3: 0.7369 - precision_3: 0.7927 - val_loss: 2.3387 - val_accuracy: 0.6479 - val_auc_9: 0.7971 - val_recall_3: 0.6194 - val_precision_3: 0.6773\n",
            "Epoch 54/100\n",
            "87/87 [==============================] - 1s 12ms/step - loss: 0.5497 - accuracy: 0.7915 - auc_9: 0.9208 - recall_3: 0.7717 - precision_3: 0.8145 - val_loss: 2.9280 - val_accuracy: 0.6589 - val_auc_9: 0.7924 - val_recall_3: 0.6348 - val_precision_3: 0.6778\n",
            "Epoch 55/100\n",
            "87/87 [==============================] - 1s 11ms/step - loss: 0.5124 - accuracy: 0.7934 - auc_9: 0.9261 - recall_3: 0.7821 - precision_3: 0.8247 - val_loss: 2.8464 - val_accuracy: 0.6567 - val_auc_9: 0.7908 - val_recall_3: 0.6355 - val_precision_3: 0.6802\n",
            "Epoch 56/100\n",
            "87/87 [==============================] - 1s 12ms/step - loss: 0.4948 - accuracy: 0.8087 - auc_9: 0.9313 - recall_3: 0.7902 - precision_3: 0.8368 - val_loss: 2.7696 - val_accuracy: 0.6399 - val_auc_9: 0.7860 - val_recall_3: 0.6143 - val_precision_3: 0.6648\n",
            "Epoch 57/100\n",
            "87/87 [==============================] - 1s 11ms/step - loss: 0.5029 - accuracy: 0.8072 - auc_9: 0.9284 - recall_3: 0.7863 - precision_3: 0.8278 - val_loss: 3.4367 - val_accuracy: 0.6538 - val_auc_9: 0.7866 - val_recall_3: 0.6238 - val_precision_3: 0.6719\n",
            "Epoch 58/100\n",
            "87/87 [==============================] - 1s 11ms/step - loss: 0.5229 - accuracy: 0.7976 - auc_9: 0.9255 - recall_3: 0.7799 - precision_3: 0.8245 - val_loss: 3.2852 - val_accuracy: 0.6654 - val_auc_9: 0.7878 - val_recall_3: 0.6318 - val_precision_3: 0.6811\n",
            "Epoch 59/100\n",
            "87/87 [==============================] - 1s 11ms/step - loss: 0.4780 - accuracy: 0.8237 - auc_9: 0.9386 - recall_3: 0.8003 - precision_3: 0.8516 - val_loss: 3.7099 - val_accuracy: 0.6640 - val_auc_9: 0.7892 - val_recall_3: 0.6311 - val_precision_3: 0.6857\n",
            "Epoch 60/100\n",
            "87/87 [==============================] - 1s 11ms/step - loss: 0.5313 - accuracy: 0.7964 - auc_9: 0.9224 - recall_3: 0.7720 - precision_3: 0.8236 - val_loss: 3.1987 - val_accuracy: 0.6501 - val_auc_9: 0.7844 - val_recall_3: 0.6194 - val_precision_3: 0.6656\n",
            "Epoch 61/100\n",
            "87/87 [==============================] - 1s 11ms/step - loss: 0.4994 - accuracy: 0.8013 - auc_9: 0.9302 - recall_3: 0.7817 - precision_3: 0.8257 - val_loss: 3.6467 - val_accuracy: 0.6654 - val_auc_9: 0.7915 - val_recall_3: 0.6245 - val_precision_3: 0.6818\n",
            "Epoch 62/100\n",
            "87/87 [==============================] - 1s 12ms/step - loss: 0.4667 - accuracy: 0.8199 - auc_9: 0.9382 - recall_3: 0.7995 - precision_3: 0.8452 - val_loss: 3.9337 - val_accuracy: 0.6669 - val_auc_9: 0.7887 - val_recall_3: 0.6289 - val_precision_3: 0.6817\n",
            "Epoch 63/100\n",
            "87/87 [==============================] - 1s 12ms/step - loss: 0.4864 - accuracy: 0.8188 - auc_9: 0.9327 - recall_3: 0.7899 - precision_3: 0.8416 - val_loss: 3.7157 - val_accuracy: 0.6633 - val_auc_9: 0.7929 - val_recall_3: 0.6304 - val_precision_3: 0.6871\n",
            "Epoch 64/100\n",
            "87/87 [==============================] - 1s 11ms/step - loss: 0.4747 - accuracy: 0.8255 - auc_9: 0.9381 - recall_3: 0.7997 - precision_3: 0.8435 - val_loss: 3.5087 - val_accuracy: 0.6538 - val_auc_9: 0.7895 - val_recall_3: 0.6253 - val_precision_3: 0.6778\n",
            "Epoch 65/100\n",
            "87/87 [==============================] - 1s 12ms/step - loss: 0.5196 - accuracy: 0.8062 - auc_9: 0.9275 - recall_3: 0.7858 - precision_3: 0.8359 - val_loss: 2.2182 - val_accuracy: 0.6056 - val_auc_9: 0.7669 - val_recall_3: 0.5888 - val_precision_3: 0.6219\n",
            "Epoch 66/100\n",
            "87/87 [==============================] - 1s 11ms/step - loss: 0.5812 - accuracy: 0.7688 - auc_9: 0.9078 - recall_3: 0.7517 - precision_3: 0.7949 - val_loss: 2.9085 - val_accuracy: 0.6282 - val_auc_9: 0.7861 - val_recall_3: 0.5953 - val_precision_3: 0.6520\n",
            "Epoch 67/100\n",
            "87/87 [==============================] - 1s 11ms/step - loss: 0.5284 - accuracy: 0.8017 - auc_9: 0.9240 - recall_3: 0.7761 - precision_3: 0.8311 - val_loss: 2.5073 - val_accuracy: 0.6443 - val_auc_9: 0.7958 - val_recall_3: 0.6048 - val_precision_3: 0.6715\n",
            "Epoch 68/100\n",
            "87/87 [==============================] - 1s 11ms/step - loss: 0.5077 - accuracy: 0.8026 - auc_9: 0.9300 - recall_3: 0.7831 - precision_3: 0.8300 - val_loss: 2.7176 - val_accuracy: 0.6428 - val_auc_9: 0.7883 - val_recall_3: 0.6114 - val_precision_3: 0.6606\n",
            "Epoch 69/100\n",
            "87/87 [==============================] - 1s 12ms/step - loss: 0.4971 - accuracy: 0.8069 - auc_9: 0.9292 - recall_3: 0.7880 - precision_3: 0.8298 - val_loss: 3.1274 - val_accuracy: 0.6472 - val_auc_9: 0.7936 - val_recall_3: 0.6194 - val_precision_3: 0.6768\n",
            "Epoch 70/100\n",
            "87/87 [==============================] - 1s 11ms/step - loss: 0.4875 - accuracy: 0.8134 - auc_9: 0.9332 - recall_3: 0.7952 - precision_3: 0.8433 - val_loss: 3.3422 - val_accuracy: 0.6501 - val_auc_9: 0.7885 - val_recall_3: 0.6187 - val_precision_3: 0.6738\n",
            "Epoch 71/100\n",
            "87/87 [==============================] - 1s 11ms/step - loss: 0.4606 - accuracy: 0.8214 - auc_9: 0.9416 - recall_3: 0.8007 - precision_3: 0.8508 - val_loss: 3.7280 - val_accuracy: 0.6523 - val_auc_9: 0.7857 - val_recall_3: 0.6253 - val_precision_3: 0.6703\n",
            "Epoch 72/100\n",
            "87/87 [==============================] - 1s 11ms/step - loss: 0.4799 - accuracy: 0.8273 - auc_9: 0.9406 - recall_3: 0.8065 - precision_3: 0.8505 - val_loss: 3.2500 - val_accuracy: 0.6465 - val_auc_9: 0.7874 - val_recall_3: 0.6143 - val_precision_3: 0.6723\n",
            "Epoch 73/100\n",
            "87/87 [==============================] - 1s 11ms/step - loss: 0.4786 - accuracy: 0.8195 - auc_9: 0.9337 - recall_3: 0.7996 - precision_3: 0.8362 - val_loss: 3.5713 - val_accuracy: 0.6516 - val_auc_9: 0.7879 - val_recall_3: 0.6267 - val_precision_3: 0.6729\n",
            "Epoch 74/100\n",
            "87/87 [==============================] - 1s 11ms/step - loss: 0.5246 - accuracy: 0.7984 - auc_9: 0.9241 - recall_3: 0.7799 - precision_3: 0.8244 - val_loss: 3.6923 - val_accuracy: 0.6560 - val_auc_9: 0.7889 - val_recall_3: 0.6318 - val_precision_3: 0.6790\n",
            "Epoch 75/100\n",
            "87/87 [==============================] - 1s 11ms/step - loss: 0.4759 - accuracy: 0.8133 - auc_9: 0.9360 - recall_3: 0.7918 - precision_3: 0.8389 - val_loss: 3.7014 - val_accuracy: 0.6603 - val_auc_9: 0.7915 - val_recall_3: 0.6304 - val_precision_3: 0.6790\n",
            "Epoch 76/100\n",
            "87/87 [==============================] - 1s 12ms/step - loss: 0.4566 - accuracy: 0.8252 - auc_9: 0.9408 - recall_3: 0.8049 - precision_3: 0.8503 - val_loss: 3.3367 - val_accuracy: 0.6538 - val_auc_9: 0.7875 - val_recall_3: 0.6238 - val_precision_3: 0.6724\n",
            "Epoch 77/100\n",
            "87/87 [==============================] - 1s 11ms/step - loss: 0.4644 - accuracy: 0.8241 - auc_9: 0.9379 - recall_3: 0.8043 - precision_3: 0.8450 - val_loss: 3.9710 - val_accuracy: 0.6603 - val_auc_9: 0.7899 - val_recall_3: 0.6289 - val_precision_3: 0.6801\n",
            "Epoch 78/100\n",
            "87/87 [==============================] - 1s 12ms/step - loss: 0.4679 - accuracy: 0.8186 - auc_9: 0.9375 - recall_3: 0.7984 - precision_3: 0.8442 - val_loss: 3.8562 - val_accuracy: 0.6508 - val_auc_9: 0.7853 - val_recall_3: 0.6209 - val_precision_3: 0.6714\n",
            "Epoch 79/100\n",
            "87/87 [==============================] - 1s 12ms/step - loss: 0.4759 - accuracy: 0.8183 - auc_9: 0.9364 - recall_3: 0.7929 - precision_3: 0.8326 - val_loss: 2.6580 - val_accuracy: 0.6238 - val_auc_9: 0.7788 - val_recall_3: 0.5814 - val_precision_3: 0.6633\n",
            "Epoch 80/100\n",
            "87/87 [==============================] - 1s 11ms/step - loss: 0.4933 - accuracy: 0.8133 - auc_9: 0.9316 - recall_3: 0.7901 - precision_3: 0.8390 - val_loss: 3.8639 - val_accuracy: 0.6538 - val_auc_9: 0.7885 - val_recall_3: 0.6194 - val_precision_3: 0.6768\n",
            "Epoch 81/100\n",
            "87/87 [==============================] - 1s 11ms/step - loss: 0.4816 - accuracy: 0.8193 - auc_9: 0.9332 - recall_3: 0.7943 - precision_3: 0.8357 - val_loss: 4.3291 - val_accuracy: 0.6552 - val_auc_9: 0.7823 - val_recall_3: 0.6260 - val_precision_3: 0.6791\n",
            "Epoch 82/100\n",
            "87/87 [==============================] - 1s 12ms/step - loss: 0.4782 - accuracy: 0.8132 - auc_9: 0.9360 - recall_3: 0.7888 - precision_3: 0.8350 - val_loss: 4.1298 - val_accuracy: 0.6516 - val_auc_9: 0.7844 - val_recall_3: 0.6143 - val_precision_3: 0.6771\n",
            "Epoch 83/100\n",
            "87/87 [==============================] - 1s 11ms/step - loss: 0.4535 - accuracy: 0.8274 - auc_9: 0.9410 - recall_3: 0.8024 - precision_3: 0.8442 - val_loss: 3.7917 - val_accuracy: 0.6421 - val_auc_9: 0.7837 - val_recall_3: 0.6085 - val_precision_3: 0.6739\n",
            "Epoch 84/100\n",
            "87/87 [==============================] - 1s 12ms/step - loss: 0.5015 - accuracy: 0.8115 - auc_9: 0.9288 - recall_3: 0.7851 - precision_3: 0.8301 - val_loss: 3.7148 - val_accuracy: 0.6465 - val_auc_9: 0.7894 - val_recall_3: 0.6180 - val_precision_3: 0.6878\n",
            "Epoch 85/100\n",
            "87/87 [==============================] - 1s 12ms/step - loss: 0.4768 - accuracy: 0.8189 - auc_9: 0.9373 - recall_3: 0.7980 - precision_3: 0.8408 - val_loss: 3.7998 - val_accuracy: 0.6530 - val_auc_9: 0.7858 - val_recall_3: 0.6238 - val_precision_3: 0.6724\n",
            "Epoch 86/100\n",
            "87/87 [==============================] - 1s 12ms/step - loss: 0.4820 - accuracy: 0.8184 - auc_9: 0.9325 - recall_3: 0.7983 - precision_3: 0.8424 - val_loss: 3.6989 - val_accuracy: 0.6297 - val_auc_9: 0.7780 - val_recall_3: 0.6048 - val_precision_3: 0.6624\n",
            "Epoch 87/100\n",
            "87/87 [==============================] - 1s 12ms/step - loss: 0.4823 - accuracy: 0.8158 - auc_9: 0.9348 - recall_3: 0.7844 - precision_3: 0.8420 - val_loss: 4.8473 - val_accuracy: 0.6435 - val_auc_9: 0.7812 - val_recall_3: 0.6238 - val_precision_3: 0.6730\n",
            "Epoch 88/100\n",
            "87/87 [==============================] - 1s 12ms/step - loss: 0.4519 - accuracy: 0.8323 - auc_9: 0.9433 - recall_3: 0.8043 - precision_3: 0.8525 - val_loss: 4.1463 - val_accuracy: 0.6399 - val_auc_9: 0.7755 - val_recall_3: 0.6216 - val_precision_3: 0.6623\n",
            "Epoch 89/100\n",
            "87/87 [==============================] - 1s 12ms/step - loss: 0.5174 - accuracy: 0.7995 - auc_9: 0.9236 - recall_3: 0.7785 - precision_3: 0.8244 - val_loss: 3.8992 - val_accuracy: 0.6421 - val_auc_9: 0.7783 - val_recall_3: 0.6202 - val_precision_3: 0.6576\n",
            "Epoch 90/100\n",
            "87/87 [==============================] - 1s 12ms/step - loss: 0.4624 - accuracy: 0.8274 - auc_9: 0.9379 - recall_3: 0.8050 - precision_3: 0.8506 - val_loss: 3.7015 - val_accuracy: 0.6413 - val_auc_9: 0.7821 - val_recall_3: 0.6150 - val_precision_3: 0.6683\n",
            "Epoch 91/100\n",
            "87/87 [==============================] - 1s 12ms/step - loss: 0.4517 - accuracy: 0.8295 - auc_9: 0.9417 - recall_3: 0.8097 - precision_3: 0.8481 - val_loss: 4.1835 - val_accuracy: 0.6538 - val_auc_9: 0.7863 - val_recall_3: 0.6194 - val_precision_3: 0.6894\n",
            "Epoch 92/100\n",
            "87/87 [==============================] - 1s 12ms/step - loss: 0.4728 - accuracy: 0.8224 - auc_9: 0.9374 - recall_3: 0.7969 - precision_3: 0.8539 - val_loss: 4.1965 - val_accuracy: 0.6465 - val_auc_9: 0.7817 - val_recall_3: 0.6216 - val_precision_3: 0.6685\n",
            "Epoch 93/100\n",
            "87/87 [==============================] - 1s 12ms/step - loss: 0.4589 - accuracy: 0.8232 - auc_9: 0.9388 - recall_3: 0.8030 - precision_3: 0.8421 - val_loss: 4.2495 - val_accuracy: 0.6523 - val_auc_9: 0.7863 - val_recall_3: 0.6194 - val_precision_3: 0.6757\n",
            "Epoch 94/100\n",
            "87/87 [==============================] - 1s 12ms/step - loss: 0.4543 - accuracy: 0.8348 - auc_9: 0.9423 - recall_3: 0.8102 - precision_3: 0.8606 - val_loss: 4.7188 - val_accuracy: 0.6603 - val_auc_9: 0.7893 - val_recall_3: 0.6311 - val_precision_3: 0.6895\n",
            "Epoch 95/100\n",
            "87/87 [==============================] - 1s 12ms/step - loss: 0.4853 - accuracy: 0.8144 - auc_9: 0.9331 - recall_3: 0.7915 - precision_3: 0.8304 - val_loss: 5.2336 - val_accuracy: 0.6618 - val_auc_9: 0.7846 - val_recall_3: 0.6384 - val_precision_3: 0.6780\n",
            "Epoch 96/100\n",
            "87/87 [==============================] - 1s 11ms/step - loss: 0.4336 - accuracy: 0.8443 - auc_9: 0.9431 - recall_3: 0.8284 - precision_3: 0.8604 - val_loss: 4.1033 - val_accuracy: 0.6530 - val_auc_9: 0.7860 - val_recall_3: 0.6267 - val_precision_3: 0.6848\n",
            "Epoch 97/100\n",
            "87/87 [==============================] - 1s 11ms/step - loss: 0.4314 - accuracy: 0.8452 - auc_9: 0.9469 - recall_3: 0.8222 - precision_3: 0.8657 - val_loss: 5.4329 - val_accuracy: 0.6465 - val_auc_9: 0.7775 - val_recall_3: 0.6289 - val_precision_3: 0.6695\n",
            "Epoch 98/100\n",
            "87/87 [==============================] - 1s 11ms/step - loss: 0.4684 - accuracy: 0.8248 - auc_9: 0.9381 - recall_3: 0.8107 - precision_3: 0.8435 - val_loss: 5.3662 - val_accuracy: 0.6574 - val_auc_9: 0.7819 - val_recall_3: 0.6304 - val_precision_3: 0.6769\n",
            "Epoch 99/100\n",
            "87/87 [==============================] - 1s 11ms/step - loss: 0.5094 - accuracy: 0.8276 - auc_9: 0.9344 - recall_3: 0.8042 - precision_3: 0.8495 - val_loss: 4.0809 - val_accuracy: 0.6421 - val_auc_9: 0.7819 - val_recall_3: 0.6048 - val_precision_3: 0.6765\n",
            "Epoch 100/100\n",
            "87/87 [==============================] - 1s 11ms/step - loss: 0.4557 - accuracy: 0.8343 - auc_9: 0.9411 - recall_3: 0.8117 - precision_3: 0.8545 - val_loss: 4.8805 - val_accuracy: 0.6479 - val_auc_9: 0.7813 - val_recall_3: 0.6150 - val_precision_3: 0.6779\n"
          ],
          "name": "stdout"
        },
        {
          "output_type": "execute_result",
          "data": {
            "text/plain": [
              "<tensorflow.python.keras.callbacks.History at 0x7febde242990>"
            ]
          },
          "metadata": {
            "tags": []
          },
          "execution_count": 117
        }
      ]
    },
    {
      "cell_type": "code",
      "metadata": {
        "id": "6BG5cZA2-YN4",
        "colab": {
          "base_uri": "https://localhost:8080/"
        },
        "outputId": "d62f3cd4-3cea-431c-a7fd-23b54a7f7950"
      },
      "source": [
        "model.summary()"
      ],
      "execution_count": 118,
      "outputs": [
        {
          "output_type": "stream",
          "text": [
            "Model: \"sequential_4\"\n",
            "_________________________________________________________________\n",
            "Layer (type)                 Output Shape              Param #   \n",
            "=================================================================\n",
            "lstm_4 (LSTM)                (None, 32)                36224     \n",
            "_________________________________________________________________\n",
            "dropout_13 (Dropout)         (None, 32)                0         \n",
            "_________________________________________________________________\n",
            "dense_13 (Dense)             (None, 8)                 264       \n",
            "_________________________________________________________________\n",
            "dropout_14 (Dropout)         (None, 8)                 0         \n",
            "_________________________________________________________________\n",
            "dense_14 (Dense)             (None, 8)                 72        \n",
            "_________________________________________________________________\n",
            "dropout_15 (Dropout)         (None, 8)                 0         \n",
            "_________________________________________________________________\n",
            "dense_15 (Dense)             (None, 3)                 27        \n",
            "=================================================================\n",
            "Total params: 36,587\n",
            "Trainable params: 36,587\n",
            "Non-trainable params: 0\n",
            "_________________________________________________________________\n"
          ],
          "name": "stdout"
        }
      ]
    },
    {
      "cell_type": "markdown",
      "metadata": {
        "id": "uFXMGZgg-YN4"
      },
      "source": [
        "# Test\n",
        "your model can predict correctly even for unseen words from training.  \n",
        "This is the most benefit of using pretrained word embedding.  \n",
        "Why? pretrained embedding will encode [better], [nice] to similar vector of [best]  \n",
        "even if these words were not in train.  \n",
        "therefore, the input vector to RNN is similar, so correct answers for even these unseen words."
      ]
    },
    {
      "cell_type": "code",
      "metadata": {
        "id": "ww4-dsZj-YN5",
        "colab": {
          "base_uri": "https://localhost:8080/",
          "height": 246
        },
        "outputId": "22250489-5835-451e-ff25-e39148ebf46f"
      },
      "source": [
        "\n",
        "test_df = df\n",
        "\n",
        "test_X, test_Y = preprocess(test_df)\n",
        "test_X\n",
        "\n",
        "score, acc = model.evaluate(test_X, test_Y, verbose=2)\n",
        "print('Test score:', score)\n",
        "print('Test accuracy:', acc)"
      ],
      "execution_count": 119,
      "outputs": [
        {
          "output_type": "stream",
          "text": [
            "130/130 - 1s - loss: 1.8532 - accuracy: 0.7982 - auc_9: 0.9056 - recall_3: 0.7553 - precision_3: 0.8212\n"
          ],
          "name": "stdout"
        },
        {
          "output_type": "error",
          "ename": "ValueError",
          "evalue": "ignored",
          "traceback": [
            "\u001b[0;31m---------------------------------------------------------------------------\u001b[0m",
            "\u001b[0;31mValueError\u001b[0m                                Traceback (most recent call last)",
            "\u001b[0;32m<ipython-input-119-ec802895baa4>\u001b[0m in \u001b[0;36m<module>\u001b[0;34m()\u001b[0m\n\u001b[1;32m      5\u001b[0m \u001b[0mtest_X\u001b[0m\u001b[0;34m\u001b[0m\u001b[0;34m\u001b[0m\u001b[0m\n\u001b[1;32m      6\u001b[0m \u001b[0;34m\u001b[0m\u001b[0m\n\u001b[0;32m----> 7\u001b[0;31m \u001b[0mscore\u001b[0m\u001b[0;34m,\u001b[0m \u001b[0macc\u001b[0m \u001b[0;34m=\u001b[0m \u001b[0mmodel\u001b[0m\u001b[0;34m.\u001b[0m\u001b[0mevaluate\u001b[0m\u001b[0;34m(\u001b[0m\u001b[0mtest_X\u001b[0m\u001b[0;34m,\u001b[0m \u001b[0mtest_Y\u001b[0m\u001b[0;34m,\u001b[0m \u001b[0mverbose\u001b[0m\u001b[0;34m=\u001b[0m\u001b[0;36m2\u001b[0m\u001b[0;34m)\u001b[0m\u001b[0;34m\u001b[0m\u001b[0;34m\u001b[0m\u001b[0m\n\u001b[0m\u001b[1;32m      8\u001b[0m \u001b[0mprint\u001b[0m\u001b[0;34m(\u001b[0m\u001b[0;34m'Test score:'\u001b[0m\u001b[0;34m,\u001b[0m \u001b[0mscore\u001b[0m\u001b[0;34m)\u001b[0m\u001b[0;34m\u001b[0m\u001b[0;34m\u001b[0m\u001b[0m\n\u001b[1;32m      9\u001b[0m \u001b[0mprint\u001b[0m\u001b[0;34m(\u001b[0m\u001b[0;34m'Test accuracy:'\u001b[0m\u001b[0;34m,\u001b[0m \u001b[0macc\u001b[0m\u001b[0;34m)\u001b[0m\u001b[0;34m\u001b[0m\u001b[0;34m\u001b[0m\u001b[0m\n",
            "\u001b[0;31mValueError\u001b[0m: too many values to unpack (expected 2)"
          ]
        }
      ]
    },
    {
      "cell_type": "code",
      "metadata": {
        "id": "izOzmJIv68DS"
      },
      "source": [
        "test_df"
      ],
      "execution_count": null,
      "outputs": []
    },
    {
      "cell_type": "code",
      "metadata": {
        "id": "4zMqIM7gLx8z"
      },
      "source": [
        "df.dtypes\n"
      ],
      "execution_count": null,
      "outputs": []
    },
    {
      "cell_type": "code",
      "metadata": {
        "id": "mdTEf15cq6fV"
      },
      "source": [
        "def value_transform(x):\n",
        "  if x<0.5:\n",
        "    x=0\n",
        "  else:\n",
        "    x=1\n",
        "  return x"
      ],
      "execution_count": null,
      "outputs": []
    },
    {
      "cell_type": "code",
      "metadata": {
        "id": "IzejEYxL-YN7"
      },
      "source": [
        "# df['Text'] = np.asarray(df['Text']).astype(np.int64)\n",
        "preds = model.predict(test_X)"
      ],
      "execution_count": null,
      "outputs": []
    },
    {
      "cell_type": "code",
      "metadata": {
        "id": "uW9hQ3YlLe_X"
      },
      "source": [
        "preds = np.array([[value_transform(j) for j in preds[i]] for i in range(20148 - DropDataNumber)], dtype='int32')"
      ],
      "execution_count": null,
      "outputs": []
    },
    {
      "cell_type": "code",
      "metadata": {
        "id": "f2EObLEEiivv"
      },
      "source": [
        "from sklearn.metrics import accuracy_score, confusion_matrix"
      ],
      "execution_count": null,
      "outputs": []
    },
    {
      "cell_type": "code",
      "metadata": {
        "id": "zC8yv4XZjSgb"
      },
      "source": [
        "preds.ndim"
      ],
      "execution_count": null,
      "outputs": []
    },
    {
      "cell_type": "code",
      "metadata": {
        "id": "pO7fsqb4lrTW"
      },
      "source": [
        ""
      ],
      "execution_count": null,
      "outputs": []
    },
    {
      "cell_type": "code",
      "metadata": {
        "id": "sM_3Z9AbpnvT"
      },
      "source": [
        "preds.shape"
      ],
      "execution_count": null,
      "outputs": []
    },
    {
      "cell_type": "code",
      "metadata": {
        "id": "Vj0ZcuGAtHHX"
      },
      "source": [
        "test_Y.shape"
      ],
      "execution_count": null,
      "outputs": []
    },
    {
      "cell_type": "code",
      "metadata": {
        "id": "TAec035QL3-c"
      },
      "source": [
        "accuracy_score(test_Y.argmax(axis=1), preds.argmax(axis=1))"
      ],
      "execution_count": null,
      "outputs": []
    },
    {
      "cell_type": "code",
      "metadata": {
        "id": "OPwsFGorQqln"
      },
      "source": [
        "confusion_matrix(test_Y.argmax(axis=1), preds.argmax(axis=1))"
      ],
      "execution_count": null,
      "outputs": []
    }
  ]
}